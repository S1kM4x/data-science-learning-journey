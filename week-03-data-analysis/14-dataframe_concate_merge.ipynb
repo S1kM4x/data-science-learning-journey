{
 "cells": [
  {
   "cell_type": "code",
   "execution_count": 1,
   "id": "165322e9",
   "metadata": {},
   "outputs": [],
   "source": [
    "import pandas as pd"
   ]
  },
  {
   "cell_type": "code",
   "execution_count": 2,
   "id": "b358b710",
   "metadata": {},
   "outputs": [],
   "source": [
    "DF1 = pd.DataFrame({'CARS':['Nissan','Ford','Audi'],\n",
    "                    'COLORS':['White','Blue','Red']}).set_index('CARS')"
   ]
  },
  {
   "cell_type": "code",
   "execution_count": 3,
   "id": "a7a3b223",
   "metadata": {},
   "outputs": [],
   "source": [
    "DF2 = pd.DataFrame({'CARS':['Nissan','Ford','Audi'],\n",
    "                    'MODELS':['2018','2020','2022']}).set_index('CARS')"
   ]
  },
  {
   "cell_type": "code",
   "execution_count": 4,
   "id": "e2c0afac",
   "metadata": {},
   "outputs": [],
   "source": [
    "DF = pd.merge(DF1,DF2, on='CARS')"
   ]
  },
  {
   "cell_type": "code",
   "execution_count": 5,
   "id": "cc627b85",
   "metadata": {},
   "outputs": [
    {
     "data": {
      "text/html": [
       "<div>\n",
       "<style scoped>\n",
       "    .dataframe tbody tr th:only-of-type {\n",
       "        vertical-align: middle;\n",
       "    }\n",
       "\n",
       "    .dataframe tbody tr th {\n",
       "        vertical-align: top;\n",
       "    }\n",
       "\n",
       "    .dataframe thead th {\n",
       "        text-align: right;\n",
       "    }\n",
       "</style>\n",
       "<table border=\"1\" class=\"dataframe\">\n",
       "  <thead>\n",
       "    <tr style=\"text-align: right;\">\n",
       "      <th></th>\n",
       "      <th>COLORS</th>\n",
       "      <th>MODELS</th>\n",
       "    </tr>\n",
       "    <tr>\n",
       "      <th>CARS</th>\n",
       "      <th></th>\n",
       "      <th></th>\n",
       "    </tr>\n",
       "  </thead>\n",
       "  <tbody>\n",
       "    <tr>\n",
       "      <th>Nissan</th>\n",
       "      <td>White</td>\n",
       "      <td>2018</td>\n",
       "    </tr>\n",
       "    <tr>\n",
       "      <th>Ford</th>\n",
       "      <td>Blue</td>\n",
       "      <td>2020</td>\n",
       "    </tr>\n",
       "    <tr>\n",
       "      <th>Audi</th>\n",
       "      <td>Red</td>\n",
       "      <td>2022</td>\n",
       "    </tr>\n",
       "  </tbody>\n",
       "</table>\n",
       "</div>"
      ],
      "text/plain": [
       "       COLORS MODELS\n",
       "CARS                \n",
       "Nissan  White   2018\n",
       "Ford     Blue   2020\n",
       "Audi      Red   2022"
      ]
     },
     "execution_count": 5,
     "metadata": {},
     "output_type": "execute_result"
    }
   ],
   "source": [
    "DF"
   ]
  },
  {
   "cell_type": "code",
   "execution_count": 12,
   "id": "e73cd98c",
   "metadata": {},
   "outputs": [],
   "source": [
    "DF3 = pd.DataFrame({'CARS':['Nissan','Ford','Audi'],\n",
    "                    'COLORS':['White','Blue','Red']}).set_index('CARS')"
   ]
  },
  {
   "cell_type": "code",
   "execution_count": 13,
   "id": "877b4370",
   "metadata": {},
   "outputs": [],
   "source": [
    "DF4 = pd.DataFrame({'CARS':['Toyota','Ford','Audi'],\n",
    "                    'MODELS':['2018','2020','2022']}).set_index('CARS')"
   ]
  },
  {
   "cell_type": "code",
   "execution_count": 14,
   "id": "d2806da8",
   "metadata": {},
   "outputs": [],
   "source": [
    "DFX = pd.merge(DF3,DF4, on='CARS')"
   ]
  },
  {
   "cell_type": "code",
   "execution_count": 15,
   "id": "8dab8570",
   "metadata": {},
   "outputs": [
    {
     "data": {
      "text/html": [
       "<div>\n",
       "<style scoped>\n",
       "    .dataframe tbody tr th:only-of-type {\n",
       "        vertical-align: middle;\n",
       "    }\n",
       "\n",
       "    .dataframe tbody tr th {\n",
       "        vertical-align: top;\n",
       "    }\n",
       "\n",
       "    .dataframe thead th {\n",
       "        text-align: right;\n",
       "    }\n",
       "</style>\n",
       "<table border=\"1\" class=\"dataframe\">\n",
       "  <thead>\n",
       "    <tr style=\"text-align: right;\">\n",
       "      <th></th>\n",
       "      <th>COLORS</th>\n",
       "      <th>MODELS</th>\n",
       "    </tr>\n",
       "    <tr>\n",
       "      <th>CARS</th>\n",
       "      <th></th>\n",
       "      <th></th>\n",
       "    </tr>\n",
       "  </thead>\n",
       "  <tbody>\n",
       "    <tr>\n",
       "      <th>Ford</th>\n",
       "      <td>Blue</td>\n",
       "      <td>2020</td>\n",
       "    </tr>\n",
       "    <tr>\n",
       "      <th>Audi</th>\n",
       "      <td>Red</td>\n",
       "      <td>2022</td>\n",
       "    </tr>\n",
       "  </tbody>\n",
       "</table>\n",
       "</div>"
      ],
      "text/plain": [
       "     COLORS MODELS\n",
       "CARS              \n",
       "Ford   Blue   2020\n",
       "Audi    Red   2022"
      ]
     },
     "execution_count": 15,
     "metadata": {},
     "output_type": "execute_result"
    }
   ],
   "source": [
    "DFX"
   ]
  },
  {
   "cell_type": "code",
   "execution_count": 16,
   "id": "299d298a",
   "metadata": {},
   "outputs": [],
   "source": [
    "DF5 = pd.DataFrame({'CARS':['Nissan','Ford','Audi'],\n",
    "                    'COLORS':['White','Blue','Red']}).set_index('CARS')"
   ]
  },
  {
   "cell_type": "code",
   "execution_count": 17,
   "id": "5ef2f08d",
   "metadata": {},
   "outputs": [],
   "source": [
    "DF6 = pd.DataFrame({'CARS':['Toyota','Ford','Audi'],\n",
    "                    'MODELS':['2018','2020','2022']}).set_index('CARS')"
   ]
  },
  {
   "cell_type": "code",
   "execution_count": null,
   "id": "66a03fff",
   "metadata": {},
   "outputs": [],
   "source": [
    "DFXN = pd.merge(DF5,DF6, on='CARS', how='outer') #TAMBIEN SE PUEDE UTILIZAR EN how='left' or 'right'"
   ]
  },
  {
   "cell_type": "code",
   "execution_count": 20,
   "id": "e43efc36",
   "metadata": {},
   "outputs": [
    {
     "data": {
      "text/html": [
       "<div>\n",
       "<style scoped>\n",
       "    .dataframe tbody tr th:only-of-type {\n",
       "        vertical-align: middle;\n",
       "    }\n",
       "\n",
       "    .dataframe tbody tr th {\n",
       "        vertical-align: top;\n",
       "    }\n",
       "\n",
       "    .dataframe thead th {\n",
       "        text-align: right;\n",
       "    }\n",
       "</style>\n",
       "<table border=\"1\" class=\"dataframe\">\n",
       "  <thead>\n",
       "    <tr style=\"text-align: right;\">\n",
       "      <th></th>\n",
       "      <th>COLORS</th>\n",
       "      <th>MODELS</th>\n",
       "    </tr>\n",
       "    <tr>\n",
       "      <th>CARS</th>\n",
       "      <th></th>\n",
       "      <th></th>\n",
       "    </tr>\n",
       "  </thead>\n",
       "  <tbody>\n",
       "    <tr>\n",
       "      <th>Audi</th>\n",
       "      <td>Red</td>\n",
       "      <td>2022</td>\n",
       "    </tr>\n",
       "    <tr>\n",
       "      <th>Ford</th>\n",
       "      <td>Blue</td>\n",
       "      <td>2020</td>\n",
       "    </tr>\n",
       "    <tr>\n",
       "      <th>Nissan</th>\n",
       "      <td>White</td>\n",
       "      <td>NaN</td>\n",
       "    </tr>\n",
       "    <tr>\n",
       "      <th>Toyota</th>\n",
       "      <td>NaN</td>\n",
       "      <td>2018</td>\n",
       "    </tr>\n",
       "  </tbody>\n",
       "</table>\n",
       "</div>"
      ],
      "text/plain": [
       "       COLORS MODELS\n",
       "CARS                \n",
       "Audi      Red   2022\n",
       "Ford     Blue   2020\n",
       "Nissan  White    NaN\n",
       "Toyota    NaN   2018"
      ]
     },
     "execution_count": 20,
     "metadata": {},
     "output_type": "execute_result"
    }
   ],
   "source": [
    "DFXN"
   ]
  }
 ],
 "metadata": {
  "kernelspec": {
   "display_name": "base",
   "language": "python",
   "name": "python3"
  },
  "language_info": {
   "codemirror_mode": {
    "name": "ipython",
    "version": 3
   },
   "file_extension": ".py",
   "mimetype": "text/x-python",
   "name": "python",
   "nbconvert_exporter": "python",
   "pygments_lexer": "ipython3",
   "version": "3.13.5"
  }
 },
 "nbformat": 4,
 "nbformat_minor": 5
}
