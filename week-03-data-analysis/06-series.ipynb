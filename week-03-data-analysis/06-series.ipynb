{
 "cells": [
  {
   "cell_type": "code",
   "execution_count": 2,
   "id": "c4e334b7",
   "metadata": {},
   "outputs": [],
   "source": [
    "import pandas as pd"
   ]
  },
  {
   "cell_type": "code",
   "execution_count": 3,
   "id": "b728b2e9",
   "metadata": {},
   "outputs": [],
   "source": [
    "data = 5"
   ]
  },
  {
   "cell_type": "code",
   "execution_count": 4,
   "id": "29003712",
   "metadata": {},
   "outputs": [],
   "source": [
    "serie = pd.Series(data, index=[0,1,2,3,4,5])"
   ]
  },
  {
   "cell_type": "code",
   "execution_count": 5,
   "id": "e065fada",
   "metadata": {},
   "outputs": [
    {
     "name": "stdout",
     "output_type": "stream",
     "text": [
      "0    5\n",
      "1    5\n",
      "2    5\n",
      "3    5\n",
      "4    5\n",
      "5    5\n",
      "dtype: int64\n"
     ]
    }
   ],
   "source": [
    "print(serie)"
   ]
  },
  {
   "cell_type": "code",
   "execution_count": 6,
   "id": "18e5cfa4",
   "metadata": {},
   "outputs": [],
   "source": [
    "data_list = ['Messi', 'Cristiano Ronaldo','Benzema']"
   ]
  },
  {
   "cell_type": "code",
   "execution_count": 7,
   "id": "7bb5bfbd",
   "metadata": {},
   "outputs": [],
   "source": [
    "indices = ['PSG','Manchester United','Real Madrid']"
   ]
  },
  {
   "cell_type": "code",
   "execution_count": 8,
   "id": "a6c1a90b",
   "metadata": {},
   "outputs": [],
   "source": [
    "soccer = pd.Series(index=indices, data=data_list)"
   ]
  },
  {
   "cell_type": "code",
   "execution_count": 9,
   "id": "939b2613",
   "metadata": {},
   "outputs": [
    {
     "name": "stdout",
     "output_type": "stream",
     "text": [
      "PSG                              Messi\n",
      "Manchester United    Cristiano Ronaldo\n",
      "Real Madrid                    Benzema\n",
      "dtype: object\n"
     ]
    }
   ],
   "source": [
    "print(soccer)"
   ]
  }
 ],
 "metadata": {
  "kernelspec": {
   "display_name": "base",
   "language": "python",
   "name": "python3"
  },
  "language_info": {
   "codemirror_mode": {
    "name": "ipython",
    "version": 3
   },
   "file_extension": ".py",
   "mimetype": "text/x-python",
   "name": "python",
   "nbconvert_exporter": "python",
   "pygments_lexer": "ipython3",
   "version": "3.13.5"
  }
 },
 "nbformat": 4,
 "nbformat_minor": 5
}
