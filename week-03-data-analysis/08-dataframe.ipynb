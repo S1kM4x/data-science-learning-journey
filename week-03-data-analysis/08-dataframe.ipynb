{
 "cells": [
  {
   "cell_type": "code",
   "execution_count": 1,
   "id": "a32d6eaa",
   "metadata": {},
   "outputs": [],
   "source": [
    "import pandas as pd"
   ]
  },
  {
   "cell_type": "code",
   "execution_count": 2,
   "id": "316e8c5c",
   "metadata": {},
   "outputs": [],
   "source": [
    "df = pd.DataFrame([['Adriane',22],['Emilio',28],['Tomas', 9],['Maximo',3]], columns=['NAME','AGE'])"
   ]
  },
  {
   "cell_type": "code",
   "execution_count": 3,
   "id": "8123bca8",
   "metadata": {},
   "outputs": [
    {
     "name": "stdout",
     "output_type": "stream",
     "text": [
      "      NAME  AGE\n",
      "0  Adriane   22\n",
      "1   Emilio   28\n",
      "2    Tomas    9\n",
      "3   Maximo    3\n"
     ]
    }
   ],
   "source": [
    "print(df)"
   ]
  }
 ],
 "metadata": {
  "kernelspec": {
   "display_name": "base",
   "language": "python",
   "name": "python3"
  },
  "language_info": {
   "codemirror_mode": {
    "name": "ipython",
    "version": 3
   },
   "file_extension": ".py",
   "mimetype": "text/x-python",
   "name": "python",
   "nbconvert_exporter": "python",
   "pygments_lexer": "ipython3",
   "version": "3.13.5"
  }
 },
 "nbformat": 4,
 "nbformat_minor": 5
}
