{
 "cells": [
  {
   "cell_type": "code",
   "execution_count": 5,
   "id": "8bc3b9e6-d7dc-4174-a416-0a819da46417",
   "metadata": {},
   "outputs": [],
   "source": [
    "import pandas as pd"
   ]
  },
  {
   "cell_type": "code",
   "execution_count": 8,
   "id": "5dd5fafb",
   "metadata": {},
   "outputs": [],
   "source": [
    "colors = pd.Series(['red','blue','yellow','green','purple'])"
   ]
  },
  {
   "cell_type": "code",
   "execution_count": 9,
   "id": "34c7d8d7",
   "metadata": {},
   "outputs": [
    {
     "name": "stdout",
     "output_type": "stream",
     "text": [
      "0       red\n",
      "1      blue\n",
      "2    yellow\n",
      "3     green\n",
      "4    purple\n",
      "dtype: object\n"
     ]
    }
   ],
   "source": [
    "print(colors)"
   ]
  },
  {
   "cell_type": "code",
   "execution_count": 14,
   "id": "04d4c8f0",
   "metadata": {},
   "outputs": [
    {
     "data": {
      "text/plain": [
       "1    blue\n",
       "dtype: object"
      ]
     },
     "execution_count": 14,
     "metadata": {},
     "output_type": "execute_result"
    }
   ],
   "source": [
    "colors[1:2]"
   ]
  },
  {
   "cell_type": "code",
   "execution_count": 15,
   "id": "c0ee7fd9",
   "metadata": {},
   "outputs": [
    {
     "data": {
      "text/plain": [
       "2    yellow\n",
       "3     green\n",
       "dtype: object"
      ]
     },
     "execution_count": 15,
     "metadata": {},
     "output_type": "execute_result"
    }
   ],
   "source": [
    "colors[2:4]"
   ]
  },
  {
   "cell_type": "code",
   "execution_count": 10,
   "id": "682f5f58",
   "metadata": {},
   "outputs": [],
   "source": [
    "numbers = pd.Series([1,2,3,4,5,6,7,8,9])"
   ]
  },
  {
   "cell_type": "code",
   "execution_count": 16,
   "id": "e9fefb19",
   "metadata": {},
   "outputs": [
    {
     "data": {
      "text/plain": [
       "0     2\n",
       "1     4\n",
       "2     6\n",
       "3     8\n",
       "4    10\n",
       "5    12\n",
       "6    14\n",
       "7    16\n",
       "8    18\n",
       "dtype: int64"
      ]
     },
     "execution_count": 16,
     "metadata": {},
     "output_type": "execute_result"
    }
   ],
   "source": [
    "numbers * 2"
   ]
  },
  {
   "cell_type": "code",
   "execution_count": 11,
   "id": "9ed42ddc",
   "metadata": {},
   "outputs": [
    {
     "data": {
      "text/plain": [
       "9"
      ]
     },
     "execution_count": 11,
     "metadata": {},
     "output_type": "execute_result"
    }
   ],
   "source": [
    "numbers.size"
   ]
  },
  {
   "cell_type": "code",
   "execution_count": 12,
   "id": "bd26a428",
   "metadata": {},
   "outputs": [
    {
     "data": {
      "text/plain": [
       "RangeIndex(start=0, stop=9, step=1)"
      ]
     },
     "execution_count": 12,
     "metadata": {},
     "output_type": "execute_result"
    }
   ],
   "source": [
    "numbers.index"
   ]
  },
  {
   "cell_type": "code",
   "execution_count": 13,
   "id": "eeceebaf",
   "metadata": {},
   "outputs": [
    {
     "data": {
      "text/plain": [
       "dtype('int64')"
      ]
     },
     "execution_count": 13,
     "metadata": {},
     "output_type": "execute_result"
    }
   ],
   "source": [
    "numbers.dtype"
   ]
  }
 ],
 "metadata": {
  "kernelspec": {
   "display_name": "base",
   "language": "python",
   "name": "python3"
  },
  "language_info": {
   "codemirror_mode": {
    "name": "ipython",
    "version": 3
   },
   "file_extension": ".py",
   "mimetype": "text/x-python",
   "name": "python",
   "nbconvert_exporter": "python",
   "pygments_lexer": "ipython3",
   "version": "3.13.5"
  }
 },
 "nbformat": 4,
 "nbformat_minor": 5
}
