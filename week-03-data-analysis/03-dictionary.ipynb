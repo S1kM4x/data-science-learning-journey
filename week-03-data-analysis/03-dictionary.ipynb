{
 "cells": [
  {
   "cell_type": "code",
   "execution_count": 2,
   "id": "ff83c30c",
   "metadata": {},
   "outputs": [],
   "source": [
    "import pandas as pd"
   ]
  },
  {
   "cell_type": "code",
   "execution_count": 3,
   "id": "ecc8e96c",
   "metadata": {},
   "outputs": [],
   "source": [
    "subjects = pd.Series({'Math':60, 'Physics':100, 'Chemistry':78})"
   ]
  },
  {
   "cell_type": "code",
   "execution_count": 4,
   "id": "d5018de4",
   "metadata": {},
   "outputs": [
    {
     "data": {
      "text/plain": [
       "np.int64(100)"
      ]
     },
     "execution_count": 4,
     "metadata": {},
     "output_type": "execute_result"
    }
   ],
   "source": [
    "subjects['Physics']"
   ]
  },
  {
   "cell_type": "code",
   "execution_count": 7,
   "id": "0d62e0b2",
   "metadata": {},
   "outputs": [
    {
     "data": {
      "text/plain": [
       "Physics      100\n",
       "Chemistry     78\n",
       "dtype: int64"
      ]
     },
     "execution_count": 7,
     "metadata": {},
     "output_type": "execute_result"
    }
   ],
   "source": [
    "subjects[['Physics','Chemistry']]"
   ]
  },
  {
   "cell_type": "code",
   "execution_count": 5,
   "id": "00eebb7f",
   "metadata": {},
   "outputs": [
    {
     "name": "stdout",
     "output_type": "stream",
     "text": [
      "Math          60\n",
      "Physics      100\n",
      "Chemistry     78\n",
      "dtype: int64\n"
     ]
    }
   ],
   "source": [
    "print(subjects)"
   ]
  },
  {
   "cell_type": "code",
   "execution_count": null,
   "id": "1741d6fd",
   "metadata": {},
   "outputs": [],
   "source": []
  }
 ],
 "metadata": {
  "kernelspec": {
   "display_name": "base",
   "language": "python",
   "name": "python3"
  },
  "language_info": {
   "codemirror_mode": {
    "name": "ipython",
    "version": 3
   },
   "file_extension": ".py",
   "mimetype": "text/x-python",
   "name": "python",
   "nbconvert_exporter": "python",
   "pygments_lexer": "ipython3",
   "version": "3.13.5"
  }
 },
 "nbformat": 4,
 "nbformat_minor": 5
}
