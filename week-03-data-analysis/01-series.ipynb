{
 "cells": [
  {
   "cell_type": "code",
   "execution_count": 1,
   "id": "05bf6ef0-90a8-4444-b6a3-43f6ff6823e1",
   "metadata": {},
   "outputs": [],
   "source": [
    "import pandas as pd"
   ]
  },
  {
   "cell_type": "code",
   "execution_count": 2,
   "id": "64cf8ba1-f347-4a40-be3a-ecf874abeda9",
   "metadata": {},
   "outputs": [],
   "source": [
    "orange = pd.Series([4,9,2,6,10,200])"
   ]
  },
  {
   "cell_type": "code",
   "execution_count": 3,
   "id": "f52ce23b-5938-49fd-b65a-e36f2eb46718",
   "metadata": {},
   "outputs": [
    {
     "name": "stdout",
     "output_type": "stream",
     "text": [
      "0      4\n",
      "1      9\n",
      "2      2\n",
      "3      6\n",
      "4     10\n",
      "5    200\n",
      "dtype: int64\n"
     ]
    }
   ],
   "source": [
    "print(orange)"
   ]
  },
  {
   "cell_type": "code",
   "execution_count": 4,
   "id": "67f15548-ce8f-40bc-9dbb-f16489a299e1",
   "metadata": {},
   "outputs": [],
   "source": [
    "apple = pd.Series([60,22,1,79,2,8])"
   ]
  },
  {
   "cell_type": "code",
   "execution_count": 5,
   "id": "7f7c609c-187c-46af-8370-bdc481e17765",
   "metadata": {},
   "outputs": [
    {
     "name": "stdout",
     "output_type": "stream",
     "text": [
      "0    60\n",
      "1    22\n",
      "2     1\n",
      "3    79\n",
      "4     2\n",
      "5     8\n",
      "dtype: int64\n"
     ]
    }
   ],
   "source": [
    "print(apple)"
   ]
  },
  {
   "cell_type": "code",
   "execution_count": null,
   "id": "24bc463b-8ab2-4fb6-949d-3497574a6aee",
   "metadata": {},
   "outputs": [],
   "source": []
  }
 ],
 "metadata": {
  "kernelspec": {
   "display_name": "base",
   "language": "python",
   "name": "python3"
  },
  "language_info": {
   "codemirror_mode": {
    "name": "ipython",
    "version": 3
   },
   "file_extension": ".py",
   "mimetype": "text/x-python",
   "name": "python",
   "nbconvert_exporter": "python",
   "pygments_lexer": "ipython3",
   "version": "3.13.5"
  }
 },
 "nbformat": 4,
 "nbformat_minor": 5
}
