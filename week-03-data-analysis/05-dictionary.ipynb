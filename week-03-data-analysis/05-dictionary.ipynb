{
 "cells": [
  {
   "cell_type": "code",
   "execution_count": 1,
   "id": "3774963b",
   "metadata": {},
   "outputs": [],
   "source": [
    "import pandas as pd"
   ]
  },
  {
   "cell_type": "code",
   "execution_count": 2,
   "id": "4163c1ba",
   "metadata": {},
   "outputs": [],
   "source": [
    "serie = pd.Series({'Math':8, 'Economy':6,'Programming':10,'Physics':5})"
   ]
  },
  {
   "cell_type": "code",
   "execution_count": 3,
   "id": "373f98f5",
   "metadata": {},
   "outputs": [
    {
     "name": "stdout",
     "output_type": "stream",
     "text": [
      "Math            8\n",
      "Programming    10\n",
      "dtype: int64\n"
     ]
    }
   ],
   "source": [
    "print(serie[serie > 6])"
   ]
  },
  {
   "cell_type": "code",
   "execution_count": 5,
   "id": "ebd45126",
   "metadata": {},
   "outputs": [
    {
     "name": "stdout",
     "output_type": "stream",
     "text": [
      "Physics         5\n",
      "Economy         6\n",
      "Math            8\n",
      "Programming    10\n",
      "dtype: int64\n"
     ]
    }
   ],
   "source": [
    "print(serie.sort_values())"
   ]
  },
  {
   "cell_type": "code",
   "execution_count": 7,
   "id": "5f06c078",
   "metadata": {},
   "outputs": [
    {
     "name": "stdout",
     "output_type": "stream",
     "text": [
      "Economy         6\n",
      "Math            8\n",
      "Physics         5\n",
      "Programming    10\n",
      "dtype: int64\n"
     ]
    }
   ],
   "source": [
    "print(serie.sort_index(ascending=True))"
   ]
  },
  {
   "cell_type": "code",
   "execution_count": 8,
   "id": "bcb5e626",
   "metadata": {},
   "outputs": [
    {
     "name": "stdout",
     "output_type": "stream",
     "text": [
      "Programming    10\n",
      "Physics         5\n",
      "Math            8\n",
      "Economy         6\n",
      "dtype: int64\n"
     ]
    }
   ],
   "source": [
    "print(serie.sort_index(ascending=False))"
   ]
  }
 ],
 "metadata": {
  "kernelspec": {
   "display_name": "base",
   "language": "python",
   "name": "python3"
  },
  "language_info": {
   "codemirror_mode": {
    "name": "ipython",
    "version": 3
   },
   "file_extension": ".py",
   "mimetype": "text/x-python",
   "name": "python",
   "nbconvert_exporter": "python",
   "pygments_lexer": "ipython3",
   "version": "3.13.5"
  }
 },
 "nbformat": 4,
 "nbformat_minor": 5
}
