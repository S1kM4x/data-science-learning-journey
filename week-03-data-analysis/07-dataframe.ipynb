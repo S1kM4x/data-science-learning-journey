{
 "cells": [
  {
   "cell_type": "code",
   "execution_count": 1,
   "id": "69436815",
   "metadata": {},
   "outputs": [],
   "source": [
    "import pandas as pd"
   ]
  },
  {
   "cell_type": "code",
   "execution_count": 2,
   "id": "36629ca4",
   "metadata": {},
   "outputs": [],
   "source": [
    "data = {'NAME':['Adriane','Emilio','Tomas','Maximo'], \n",
    "        'CAREER':['Audit','Computing','Lawer','Language'],\n",
    "        'EMAIL':['adriane@gmail.com','emilio@gmail.com','tomas@gmail.com','maximo@gmail.com']}"
   ]
  },
  {
   "cell_type": "code",
   "execution_count": 4,
   "id": "736d562b",
   "metadata": {},
   "outputs": [],
   "source": [
    "students = pd.DataFrame(data)"
   ]
  },
  {
   "cell_type": "code",
   "execution_count": 5,
   "id": "5cca8863",
   "metadata": {},
   "outputs": [
    {
     "name": "stdout",
     "output_type": "stream",
     "text": [
      "      NAME     CAREER              EMAIL\n",
      "0  Adriane      Audit  adriane@gmail.com\n",
      "1   Emilio  Computing   emilio@gmail.com\n",
      "2    Tomas      Lawer    tomas@gmail.com\n",
      "3   Maximo   Language   maximo@gmail.com\n"
     ]
    }
   ],
   "source": [
    "print(students)"
   ]
  }
 ],
 "metadata": {
  "kernelspec": {
   "display_name": "base",
   "language": "python",
   "name": "python3"
  },
  "language_info": {
   "codemirror_mode": {
    "name": "ipython",
    "version": 3
   },
   "file_extension": ".py",
   "mimetype": "text/x-python",
   "name": "python",
   "nbconvert_exporter": "python",
   "pygments_lexer": "ipython3",
   "version": "3.13.5"
  }
 },
 "nbformat": 4,
 "nbformat_minor": 5
}
